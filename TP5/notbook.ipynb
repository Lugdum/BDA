{
 "cells": [
  {
   "cell_type": "markdown",
   "metadata": {},
   "source": [
    "# Exercice 1 : Lecture des données"
   ]
  },
  {
   "cell_type": "markdown",
   "metadata": {},
   "source": [
    "Importer les donnees avec spark"
   ]
  },
  {
   "cell_type": "code",
   "execution_count": 1,
   "metadata": {},
   "outputs": [
    {
     "name": "stderr",
     "output_type": "stream",
     "text": [
      "Setting default log level to \"WARN\".\n",
      "To adjust logging level use sc.setLogLevel(newLevel). For SparkR, use setLogLevel(newLevel).\n",
      "24/03/28 21:12:44 WARN NativeCodeLoader: Unable to load native-hadoop library for your platform... using builtin-java classes where applicable\n",
      "                                                                                \r"
     ]
    }
   ],
   "source": [
    "from pyspark.sql import SparkSession\n",
    "\n",
    "spark = SparkSession.builder.master(\"local[*]\").appName(\"taxi-ex1\").config(\"spark.driver.memory\", \"6g\").getOrCreate()\n",
    "spark.sparkContext.setLogLevel(\"ERROR\")\n",
    "\n",
    "data = spark.read.option(\"header\", \"true\").parquet(\"file:///home/victor/Epita/ING2/BDA/TP5/datasets/yellow_tripdata_2022-*.parquet\")"
   ]
  },
  {
   "cell_type": "markdown",
   "metadata": {},
   "source": [
    "Visualiser les données"
   ]
  },
  {
   "cell_type": "code",
   "execution_count": 2,
   "metadata": {},
   "outputs": [
    {
     "name": "stderr",
     "output_type": "stream",
     "text": [
      "                                                                                \r"
     ]
    },
    {
     "name": "stdout",
     "output_type": "stream",
     "text": [
      "+--------+--------------------+---------------------+---------------+-------------+----------+------------------+------------+------------+------------+-----------+-----+-------+----------+------------+---------------------+------------+--------------------+-----------+\n",
      "|VendorID|tpep_pickup_datetime|tpep_dropoff_datetime|passenger_count|trip_distance|RatecodeID|store_and_fwd_flag|PULocationID|DOLocationID|payment_type|fare_amount|extra|mta_tax|tip_amount|tolls_amount|improvement_surcharge|total_amount|congestion_surcharge|airport_fee|\n",
      "+--------+--------------------+---------------------+---------------+-------------+----------+------------------+------------+------------+------------+-----------+-----+-------+----------+------------+---------------------+------------+--------------------+-----------+\n",
      "|       1| 2022-10-01 00:03:41|  2022-10-01 00:18:39|            1.0|          1.7|       1.0|                 N|         249|         107|           1|        9.5|  3.0|    0.5|      2.65|         0.0|                  0.3|       15.95|                 2.5|        0.0|\n",
      "|       2| 2022-10-01 00:14:30|  2022-10-01 00:19:48|            2.0|         0.72|       1.0|                 N|         151|         238|           2|        5.5|  0.5|    0.5|       0.0|         0.0|                  0.3|         9.3|                 2.5|        0.0|\n",
      "|       2| 2022-10-01 00:27:13|  2022-10-01 00:37:41|            1.0|         1.74|       1.0|                 N|         238|         166|           1|        9.0|  0.5|    0.5|      2.06|         0.0|                  0.3|       12.36|                 0.0|        0.0|\n",
      "|       1| 2022-10-01 00:32:53|  2022-10-01 00:38:55|            0.0|          1.3|       1.0|                 N|         142|         239|           1|        6.5|  3.0|    0.5|      2.05|         0.0|                  0.3|       12.35|                 2.5|        0.0|\n",
      "|       1| 2022-10-01 00:44:55|  2022-10-01 00:50:21|            0.0|          1.0|       1.0|                 N|         238|         166|           1|        6.0|  0.5|    0.5|       1.8|         0.0|                  0.3|         9.1|                 0.0|        0.0|\n",
      "|       1| 2022-10-01 00:22:52|  2022-10-01 00:52:14|            1.0|          6.8|       1.0|                 Y|         186|          41|           2|       25.5|  3.0|    0.5|       0.0|         0.0|                  0.3|        29.3|                 2.5|        0.0|\n",
      "|       2| 2022-10-01 00:33:19|  2022-10-01 00:44:51|            3.0|         1.88|       1.0|                 N|         162|         145|           2|       10.5|  0.5|    0.5|       0.0|         0.0|                  0.3|        14.3|                 2.5|        0.0|\n",
      "|       1| 2022-10-01 00:02:42|  2022-10-01 00:50:01|            1.0|         12.2|       1.0|                 N|         100|          22|           1|       41.0|  3.0|    0.5|       3.0|         0.0|                  0.3|        47.8|                 2.5|        0.0|\n",
      "|       2| 2022-10-01 00:06:35|  2022-10-01 00:24:38|            1.0|         7.79|       1.0|                 N|         138|         112|           1|       23.5|  0.5|    0.5|      4.96|         0.0|                  0.3|       31.01|                 0.0|       1.25|\n",
      "|       2| 2022-10-01 00:29:25|  2022-10-01 00:43:15|            1.0|         4.72|       1.0|                 N|         145|          75|           1|       14.5|  0.5|    0.5|       1.5|         0.0|                  0.3|        19.8|                 2.5|        0.0|\n",
      "|       1| 2022-10-01 00:01:55|  2022-10-01 00:20:16|            1.0|          8.8|       1.0|                 N|         138|         236|           1|       26.0| 4.25|    0.5|      5.64|        6.55|                  0.3|       43.24|                 2.5|       1.25|\n",
      "|       1| 2022-10-01 00:27:48|  2022-10-01 00:59:50|            1.0|          8.6|       1.0|                 N|         140|          36|           1|       29.5|  3.0|    0.5|       6.0|         0.0|                  0.3|        39.3|                 2.5|        0.0|\n",
      "|       1| 2022-10-01 00:05:27|  2022-10-01 00:35:33|            4.0|         12.0|       1.0|                 N|          70|         230|           2|       36.5|  3.0|    0.5|       0.0|        6.55|                  0.3|       46.85|                 2.5|        0.0|\n",
      "|       1| 2022-10-01 00:38:53|  2022-10-01 00:48:13|            2.0|          1.4|       1.0|                 N|         230|          68|           1|        8.5|  3.0|    0.5|      3.05|         0.0|                  0.3|       15.35|                 2.5|        0.0|\n",
      "|       2| 2022-10-01 00:24:40|  2022-10-01 00:30:23|            1.0|         0.76|       1.0|                 N|          79|         113|           1|        5.5|  0.5|    0.5|      0.93|         0.0|                  0.3|       10.23|                 2.5|        0.0|\n",
      "|       2| 2022-10-01 00:32:22|  2022-10-01 00:58:55|            1.0|          7.8|       1.0|                 N|         113|         116|           1|       26.5|  0.5|    0.5|      6.06|         0.0|                  0.3|       36.36|                 2.5|        0.0|\n",
      "|       2| 2022-10-01 00:17:08|  2022-10-01 00:30:50|            2.0|          2.9|       1.0|                 N|          13|         249|           1|       12.0|  0.5|    0.5|       2.8|         0.0|                  0.3|        18.6|                 2.5|        0.0|\n",
      "|       2| 2022-10-01 00:32:14|  2022-10-01 00:44:35|            1.0|         1.71|       1.0|                 N|         249|          79|           1|        9.0|  0.5|    0.5|      2.56|         0.0|                  0.3|       15.36|                 2.5|        0.0|\n",
      "|       2| 2022-10-01 00:09:24|  2022-10-01 00:21:45|            1.0|          2.3|       1.0|                 N|          48|         249|           1|       10.0|  0.5|    0.5|      2.76|         0.0|                  0.3|       16.56|                 2.5|        0.0|\n",
      "|       2| 2022-10-01 00:22:29|  2022-10-01 00:33:53|            2.0|         1.67|       1.0|                 N|         249|         224|           1|        8.5|  0.5|    0.5|      2.46|         0.0|                  0.3|       14.76|                 2.5|        0.0|\n",
      "+--------+--------------------+---------------------+---------------+-------------+----------+------------------+------------+------------+------------+-----------+-----+-------+----------+------------+---------------------+------------+--------------------+-----------+\n",
      "only showing top 20 rows\n",
      "\n"
     ]
    }
   ],
   "source": [
    "data.show()"
   ]
  },
  {
   "cell_type": "code",
   "execution_count": 3,
   "metadata": {},
   "outputs": [
    {
     "name": "stdout",
     "output_type": "stream",
     "text": [
      "root\n",
      " |-- VendorID: long (nullable = true)\n",
      " |-- tpep_pickup_datetime: timestamp_ntz (nullable = true)\n",
      " |-- tpep_dropoff_datetime: timestamp_ntz (nullable = true)\n",
      " |-- passenger_count: double (nullable = true)\n",
      " |-- trip_distance: double (nullable = true)\n",
      " |-- RatecodeID: double (nullable = true)\n",
      " |-- store_and_fwd_flag: string (nullable = true)\n",
      " |-- PULocationID: long (nullable = true)\n",
      " |-- DOLocationID: long (nullable = true)\n",
      " |-- payment_type: long (nullable = true)\n",
      " |-- fare_amount: double (nullable = true)\n",
      " |-- extra: double (nullable = true)\n",
      " |-- mta_tax: double (nullable = true)\n",
      " |-- tip_amount: double (nullable = true)\n",
      " |-- tolls_amount: double (nullable = true)\n",
      " |-- improvement_surcharge: double (nullable = true)\n",
      " |-- total_amount: double (nullable = true)\n",
      " |-- congestion_surcharge: double (nullable = true)\n",
      " |-- airport_fee: double (nullable = true)\n",
      "\n"
     ]
    }
   ],
   "source": [
    "data.printSchema()"
   ]
  },
  {
   "cell_type": "markdown",
   "metadata": {},
   "source": [
    "# Exercice 2 : Data Cleaning"
   ]
  },
  {
   "cell_type": "markdown",
   "metadata": {},
   "source": [
    "Q1 – Calculer le nombre total de trajets dans le dataset."
   ]
  },
  {
   "cell_type": "code",
   "execution_count": 4,
   "metadata": {},
   "outputs": [
    {
     "data": {
      "text/plain": [
       "39656098"
      ]
     },
     "execution_count": 4,
     "metadata": {},
     "output_type": "execute_result"
    }
   ],
   "source": [
    "data.count()"
   ]
  },
  {
   "cell_type": "markdown",
   "metadata": {},
   "source": [
    "Q2 – Calculer le plus petit montant et le plus grand montant enregistré."
   ]
  },
  {
   "cell_type": "code",
   "execution_count": 5,
   "metadata": {},
   "outputs": [
    {
     "name": "stderr",
     "output_type": "stream",
     "text": [
      "                                                                                \r"
     ]
    },
    {
     "name": "stdout",
     "output_type": "stream",
     "text": [
      "+----------+----------+\n",
      "|min amount|max amount|\n",
      "+----------+----------+\n",
      "|   -2567.8| 401095.62|\n",
      "+----------+----------+\n",
      "\n"
     ]
    }
   ],
   "source": [
    "from pyspark.sql import functions as F\n",
    "\n",
    "data.agg(\n",
    "    F.min(\"total_amount\").alias(\"min amount\"),\n",
    "    F.max(\"total_amount\").alias(\"max amount\"),\n",
    ").show()"
   ]
  },
  {
   "cell_type": "markdown",
   "metadata": {},
   "source": [
    "Q3 – On se propose de garder uniquement les lignes avec des montants positifs ainsi que des montants inférieurs à 1000$. Faites les transformations nécessaires sur votre dataframe"
   ]
  },
  {
   "cell_type": "code",
   "execution_count": 6,
   "metadata": {},
   "outputs": [],
   "source": [
    "data = data.filter(data.total_amount > 0).filter(data.total_amount <= 1000)"
   ]
  },
  {
   "cell_type": "markdown",
   "metadata": {},
   "source": [
    "Q4 – Calculer des statistiques sur la distance des trajets : distance minimale, maximale, moyenne, distribution, etc"
   ]
  },
  {
   "cell_type": "code",
   "execution_count": 7,
   "metadata": {},
   "outputs": [
    {
     "name": "stderr",
     "output_type": "stream",
     "text": [
      "                                                                                \r"
     ]
    },
    {
     "name": "stdout",
     "output_type": "stream",
     "text": [
      "+------------+------------+----------------+---------------+\n",
      "|min distance|max distance|average distance|stddev distance|\n",
      "+------------+------------+----------------+---------------+\n",
      "|         0.0|   389678.46|            5.97|         598.98|\n",
      "+------------+------------+----------------+---------------+\n",
      "\n"
     ]
    },
    {
     "name": "stderr",
     "output_type": "stream",
     "text": [
      "[Stage 11:===================================================>    (11 + 1) / 12]\r"
     ]
    },
    {
     "name": "stdout",
     "output_type": "stream",
     "text": [
      "+---------------------+--------+\n",
      "|rounded_trip_distance|   count|\n",
      "+---------------------+--------+\n",
      "|                  1.0|13209918|\n",
      "|                  2.0| 9644763|\n",
      "|                  3.0| 4712022|\n",
      "|                  4.0| 2413500|\n",
      "|                  0.0| 1718671|\n",
      "|                  5.0| 1390532|\n",
      "|                  6.0|  895343|\n",
      "|                  7.0|  644546|\n",
      "|                  9.0|  603337|\n",
      "|                 10.0|  552020|\n",
      "|                  8.0|  544556|\n",
      "|                 18.0|  507457|\n",
      "|                 11.0|  425230|\n",
      "|                 17.0|  368450|\n",
      "|                 19.0|  325853|\n",
      "|                 12.0|  291582|\n",
      "|                 20.0|  186216|\n",
      "|                 16.0|  184810|\n",
      "|                 13.0|  165432|\n",
      "|                 15.0|  134110|\n",
      "+---------------------+--------+\n",
      "only showing top 20 rows\n",
      "\n"
     ]
    },
    {
     "name": "stderr",
     "output_type": "stream",
     "text": [
      "                                                                                \r"
     ]
    }
   ],
   "source": [
    "data.agg(\n",
    "    F.min(\"trip_distance\").alias(\"min distance\"),\n",
    "    F.max(\"trip_distance\").alias(\"max distance\"),\n",
    "    F.round(F.avg(\"trip_distance\"), 2).alias(\"average distance\"),\n",
    "    F.round(F.stddev(\"trip_distance\"), 2).alias(\"stddev distance\")\n",
    ").show()\n",
    "\n",
    "data.withColumn(\"rounded_trip_distance\", F.round(\"trip_distance\")) \\\n",
    "    .groupBy(\"rounded_trip_distance\") \\\n",
    "    .count() \\\n",
    "    .sort(F.col(\"count\").desc()) \\\n",
    "    .show()"
   ]
  },
  {
   "cell_type": "markdown",
   "metadata": {},
   "source": [
    "Q5 – Filtrer les données de sorte à ne garder que les trajets avec une distance strictement positive et\n",
    "ne dépassant pas les 100 miles (approximativement 160km)"
   ]
  },
  {
   "cell_type": "code",
   "execution_count": 8,
   "metadata": {},
   "outputs": [],
   "source": [
    "data = data.filter(data.trip_distance > 0).filter(data.trip_distance <= 100)"
   ]
  },
  {
   "cell_type": "markdown",
   "metadata": {},
   "source": [
    "Q6 – Filtrer les données de sorte à ne garder que les trajets avec un nombre de passagers cohérent (on se propose d’utiliser l’intervalle [1-10])"
   ]
  },
  {
   "cell_type": "code",
   "execution_count": 9,
   "metadata": {},
   "outputs": [],
   "source": [
    "data = data.filter(data.passenger_count >= 1).filter(data.passenger_count <= 10)"
   ]
  },
  {
   "cell_type": "markdown",
   "metadata": {},
   "source": [
    "Q7 – Quels sont les nombres de passagers les plus fréquents ? Calculer la distribution du nombres de passagers"
   ]
  },
  {
   "cell_type": "code",
   "execution_count": 10,
   "metadata": {},
   "outputs": [
    {
     "name": "stderr",
     "output_type": "stream",
     "text": [
      "                                                                                \r"
     ]
    },
    {
     "name": "stdout",
     "output_type": "stream",
     "text": [
      "+---------------+--------+\n",
      "|passenger_count|   count|\n",
      "+---------------+--------+\n",
      "|            1.0|27709588|\n",
      "|            2.0| 5767086|\n",
      "|            3.0| 1514042|\n",
      "|            4.0|  690112|\n",
      "|            5.0|  680915|\n",
      "|            6.0|  456203|\n",
      "|            7.0|      80|\n",
      "|            8.0|      55|\n",
      "|            9.0|      17|\n",
      "+---------------+--------+\n",
      "\n"
     ]
    },
    {
     "name": "stderr",
     "output_type": "stream",
     "text": [
      "                                                                                \r"
     ]
    },
    {
     "data": {
      "text/plain": [
       "<Axes: xlabel='passenger_count'>"
      ]
     },
     "execution_count": 10,
     "metadata": {},
     "output_type": "execute_result"
    },
    {
     "data": {
      "image/png": "[encoded data removed]",
      "text/plain": [
       "<Figure size 640x480 with 1 Axes>"
      ]
     },
     "metadata": {},
     "output_type": "display_data"
    }
   ],
   "source": [
    "data.groupBy(\"passenger_count\").count().sort(F.col(\"passenger_count\").asc()).show()\n",
    "data.groupBy(\"passenger_count\").count().sort(F.col(\"passenger_count\").asc()).toPandas().plot(x=\"passenger_count\", y=\"count\", kind=\"bar\")"
   ]
  },
  {
   "cell_type": "markdown",
   "metadata": {},
   "source": [
    "Q8 – Vérifier que toutes les lignes ont bien une date de début et de fin de trajet en 2022. Sinon, supprimez les lignes qui n’ont pas une date correcte."
   ]
  },
  {
   "cell_type": "code",
   "execution_count": 11,
   "metadata": {},
   "outputs": [],
   "source": [
    "data = data.filter(data.tpep_pickup_datetime >= \"2022-01-01 00:00:00\").filter(data.tpep_pickup_datetime <= \"2022-12-31 23:59:59\")\n",
    "data = data.filter(data.tpep_dropoff_datetime >= \"2022-01-01 00:00:00\").filter(data.tpep_dropoff_datetime <= \"2022-12-31 23:59:59\")"
   ]
  },
  {
   "cell_type": "markdown",
   "metadata": {},
   "source": [
    "Q9 – Une fois, vos données nettoyées, vous pouvez les stocker et ne travailler que sur celles-ci pour la suite du TP."
   ]
  },
  {
   "cell_type": "code",
   "execution_count": 12,
   "metadata": {},
   "outputs": [
    {
     "name": "stderr",
     "output_type": "stream",
     "text": [
      "                                                                                \r"
     ]
    },
    {
     "data": {
      "text/plain": [
       "36817073"
      ]
     },
     "execution_count": 12,
     "metadata": {},
     "output_type": "execute_result"
    }
   ],
   "source": [
    "data.count()"
   ]
  },
  {
   "cell_type": "markdown",
   "metadata": {},
   "source": []
  },
  {
   "cell_type": "markdown",
   "metadata": {},
   "source": [
    "# Exercice 3 : Data Analysis (featuring DataViz)"
   ]
  },
  {
   "cell_type": "markdown",
   "metadata": {},
   "source": [
    "Q1 – Calculer le nombre de trajets effectués pour chaque jour de l’année"
   ]
  },
  {
   "cell_type": "code",
   "execution_count": 13,
   "metadata": {},
   "outputs": [
    {
     "name": "stderr",
     "output_type": "stream",
     "text": [
      "[Stage 28:==========================================>              (9 + 3) / 12]\r"
     ]
    },
    {
     "name": "stdout",
     "output_type": "stream",
     "text": [
      "+----+-----+\n",
      "|days|count|\n",
      "+----+-----+\n",
      "|   1|58855|\n",
      "|   2|54913|\n",
      "|   3|67987|\n",
      "|   4|70304|\n",
      "|   5|70131|\n",
      "|   6|75273|\n",
      "|   7|66977|\n",
      "|   8|78514|\n",
      "|   9|60302|\n",
      "|  10|69083|\n",
      "|  11|72784|\n",
      "|  12|75584|\n",
      "|  13|80035|\n",
      "|  14|87980|\n",
      "|  15|83046|\n",
      "|  16|67727|\n",
      "|  17|59627|\n",
      "|  18|79570|\n",
      "|  19|81306|\n",
      "|  20|85063|\n",
      "+----+-----+\n",
      "only showing top 20 rows\n",
      "\n"
     ]
    },
    {
     "name": "stderr",
     "output_type": "stream",
     "text": [
      "                                                                                \r"
     ]
    }
   ],
   "source": [
    "from pyspark.sql.functions import dayofyear, dayofmonth, dayofweek, hour, month\n",
    "\n",
    "data.select(\"tpep_pickup_datetime\") \\\n",
    "    .groupBy(dayofyear(\"tpep_pickup_datetime\").alias(\"days\")) \\\n",
    "    .count() \\\n",
    "    .orderBy(\"days\") \\\n",
    "    .show()"
   ]
  },
  {
   "cell_type": "markdown",
   "metadata": {},
   "source": [
    "Q2 – Créer un graphique qui montre cette évolution"
   ]
  },
  {
   "cell_type": "code",
   "execution_count": 14,
   "metadata": {},
   "outputs": [
    {
     "name": "stderr",
     "output_type": "stream",
     "text": [
      "                                                                                \r"
     ]
    },
    {
     "data": {
      "text/plain": [
       "<Axes: xlabel='days'>"
      ]
     },
     "execution_count": 14,
     "metadata": {},
     "output_type": "execute_result"
    },
    {
     "data": {
      "image/png": "[encoded data removed]",
      "text/plain": [
       "<Figure size 640x480 with 1 Axes>"
      ]
     },
     "metadata": {},
     "output_type": "display_data"
    }
   ],
   "source": [
    "data.select(\"tpep_pickup_datetime\") \\\n",
    "    .groupBy(dayofyear(\"tpep_pickup_datetime\").alias(\"days\")) \\\n",
    "    .count() \\\n",
    "    .orderBy(\"days\") \\\n",
    "    .toPandas() \\\n",
    "    .plot(kind=\"line\", x=\"days\", y=\"count\")"
   ]
  },
  {
   "cell_type": "markdown",
   "metadata": {},
   "source": [
    "Q3 – Calculer le nombre de trajets pour chaque jour [Monday, Tuesday, Wednesday, Thursday, Friday,\n",
    "Saturday, Sunday]"
   ]
  },
  {
   "cell_type": "code",
   "execution_count": 15,
   "metadata": {},
   "outputs": [
    {
     "name": "stderr",
     "output_type": "stream",
     "text": [
      "[Stage 39:======================================>                  (8 + 4) / 12]\r"
     ]
    },
    {
     "name": "stdout",
     "output_type": "stream",
     "text": [
      "+----+-------+\n",
      "|days|  count|\n",
      "+----+-------+\n",
      "|   1|4412286|\n",
      "|   2|4748627|\n",
      "|   3|5390003|\n",
      "|   4|5551747|\n",
      "|   5|5706427|\n",
      "|   6|5617662|\n",
      "|   7|5390321|\n",
      "+----+-------+\n",
      "\n"
     ]
    },
    {
     "name": "stderr",
     "output_type": "stream",
     "text": [
      "                                                                                \r"
     ]
    }
   ],
   "source": [
    "data.select(\"tpep_pickup_datetime\") \\\n",
    "    .groupBy(dayofweek(\"tpep_pickup_datetime\").alias(\"days\")) \\\n",
    "    .count() \\\n",
    "    .orderBy(\"days\") \\\n",
    "    .show()"
   ]
  },
  {
   "cell_type": "markdown",
   "metadata": {},
   "source": [
    "Q4 – Créer un histogramme qui montre la distribution"
   ]
  },
  {
   "cell_type": "code",
   "execution_count": 16,
   "metadata": {},
   "outputs": [
    {
     "name": "stderr",
     "output_type": "stream",
     "text": [
      "                                                                                \r"
     ]
    },
    {
     "data": {
      "text/plain": [
       "<Axes: xlabel='days'>"
      ]
     },
     "execution_count": 16,
     "metadata": {},
     "output_type": "execute_result"
    },
    {
     "data": {
      "image/png": "[encoded data removed]",
      "text/plain": [
       "<Figure size 640x480 with 1 Axes>"
      ]
     },
     "metadata": {},
     "output_type": "display_data"
    }
   ],
   "source": [
    "data.select(\"tpep_pickup_datetime\") \\\n",
    "    .groupBy(dayofweek(\"tpep_pickup_datetime\").alias(\"days\")) \\\n",
    "    .count() \\\n",
    "    .orderBy(\"days\") \\\n",
    "    .toPandas() \\\n",
    "    .plot(kind=\"bar\", x=\"days\", y=\"count\")"
   ]
  },
  {
   "cell_type": "markdown",
   "metadata": {},
   "source": [
    "Q5 – Calculer le nombre de trajets et la distance moyenne pour chaque intervalle"
   ]
  },
  {
   "cell_type": "code",
   "execution_count": 17,
   "metadata": {},
   "outputs": [
    {
     "name": "stderr",
     "output_type": "stream",
     "text": [
      "[Stage 50:==============================================>         (10 + 2) / 12]\r"
     ]
    },
    {
     "name": "stdout",
     "output_type": "stream",
     "text": [
      "+-----+---------------+------------------+\n",
      "|hours|number_of_trips|  average_distance|\n",
      "+-----+---------------+------------------+\n",
      "|    0|        1013895| 4.189668318711498|\n",
      "|    1|         664924| 3.753724606120408|\n",
      "|    2|         439296| 3.499697129042836|\n",
      "|    3|         285464|3.7582130846621626|\n",
      "|    4|         184616| 5.182583903886989|\n",
      "|    5|         218058| 6.256698814076986|\n",
      "|    6|         551346| 4.880415800604333|\n",
      "|    7|        1034627| 3.830471251958444|\n",
      "|    8|        1385292|3.4145297742281038|\n",
      "|    9|        1585858| 3.217797110460096|\n",
      "|   10|        1765140| 3.180573693871305|\n",
      "|   11|        1918067| 3.170330952985506|\n",
      "|   12|        2067526| 3.281683572540336|\n",
      "|   13|        2109128| 3.442905067876388|\n",
      "|   14|        2256032| 3.573441046049015|\n",
      "|   15|        2309618|3.6482995110014156|\n",
      "|   16|        2289775| 3.561810854778328|\n",
      "|   17|        2483125|3.3147719184495594|\n",
      "|   18|        2606630|3.1224580818911947|\n",
      "|   19|        2369018|3.2871154714738497|\n",
      "+-----+---------------+------------------+\n",
      "only showing top 20 rows\n",
      "\n"
     ]
    },
    {
     "name": "stderr",
     "output_type": "stream",
     "text": [
      "                                                                                \r"
     ]
    }
   ],
   "source": [
    "data.groupBy(hour(\"tpep_pickup_datetime\").alias(\"hours\")) \\\n",
    "    .agg(\n",
    "        F.count(\"*\").alias(\"number_of_trips\"),\n",
    "        F.avg(\"trip_distance\").alias(\"average_distance\")\n",
    "    ) \\\n",
    "    .orderBy(\"hours\") \\\n",
    "    .show()"
   ]
  },
  {
   "cell_type": "markdown",
   "metadata": {},
   "source": [
    "Q6 – Créer les visualisations qui montrent ces distributions ? à quelle heures sont les trajets les plus\n",
    "courts ? Pour quels raisons à votre avis ?"
   ]
  },
  {
   "cell_type": "code",
   "execution_count": 18,
   "metadata": {},
   "outputs": [
    {
     "name": "stderr",
     "output_type": "stream",
     "text": [
      "                                                                                \r"
     ]
    },
    {
     "data": {
      "text/plain": [
       "<Axes: xlabel='hours'>"
      ]
     },
     "execution_count": 18,
     "metadata": {},
     "output_type": "execute_result"
    },
    {
     "data": {
      "image/png": "[encoded data removed]",
      "text/plain": [
       "<Figure size 640x480 with 1 Axes>"
      ]
     },
     "metadata": {},
     "output_type": "display_data"
    },
    {
     "data": {
      "image/png": "[encoded data removed]",
      "text/plain": [
       "<Figure size 640x480 with 1 Axes>"
      ]
     },
     "metadata": {},
     "output_type": "display_data"
    }
   ],
   "source": [
    "data.groupBy(hour(\"tpep_pickup_datetime\").alias(\"hours\")) \\\n",
    "    .agg(\n",
    "        F.count(\"*\").alias(\"number_of_trips\"),\n",
    "    ) \\\n",
    "    .orderBy(\"hours\") \\\n",
    "    .toPandas() \\\n",
    "    .plot(kind=\"bar\", x=\"hours\", y=\"number_of_trips\")\n",
    "\n",
    "data.groupBy(hour(\"tpep_pickup_datetime\").alias(\"hours\")) \\\n",
    "    .agg(\n",
    "        F.avg(\"trip_distance\").alias(\"average_distance\")\n",
    "    ) \\\n",
    "    .orderBy(\"hours\") \\\n",
    "    .toPandas() \\\n",
    "    .plot(kind=\"bar\", x=\"hours\", y=\"average_distance\")"
   ]
  },
  {
   "cell_type": "markdown",
   "metadata": {},
   "source": [
    "Q7 – Quelles méthodes de paiement sont les plus populaires ? Afficher le pourcentage de chacune des catégories de paiement"
   ]
  },
  {
   "cell_type": "code",
   "execution_count": 19,
   "metadata": {},
   "outputs": [
    {
     "name": "stderr",
     "output_type": "stream",
     "text": [
      "[Stage 72:======================================>                  (8 + 4) / 12]\r"
     ]
    },
    {
     "name": "stdout",
     "output_type": "stream",
     "text": [
      "+------------+--------+----------+\n",
      "|payment_type|   count|percentage|\n",
      "+------------+--------+----------+\n",
      "|           1|29216500|     79.36|\n",
      "|           2| 7418910|     20.15|\n",
      "|           3|   98582|      0.27|\n",
      "|           4|   83080|      0.23|\n",
      "|           5|       1|       0.0|\n",
      "+------------+--------+----------+\n",
      "\n"
     ]
    },
    {
     "name": "stderr",
     "output_type": "stream",
     "text": [
      "                                                                                \r"
     ]
    }
   ],
   "source": [
    "nb_trips = data.count()\n",
    "\n",
    "data.groupBy(\"payment_type\") \\\n",
    "    .count() \\\n",
    "    .withColumn(\"percentage\", F.round(F.col(\"count\") / nb_trips * 100, 2)) \\\n",
    "    .orderBy(F.col(\"percentage\").desc()) \\\n",
    "    .show()"
   ]
  },
  {
   "cell_type": "markdown",
   "metadata": {},
   "source": [
    "Q8 – Quelle est la durée moyenne d’un trajet pour chaque mois ?"
   ]
  },
  {
   "cell_type": "code",
   "execution_count": 20,
   "metadata": {},
   "outputs": [
    {
     "name": "stderr",
     "output_type": "stream",
     "text": [
      "[Stage 75:======================================>                  (8 + 4) / 12]\r"
     ]
    },
    {
     "name": "stdout",
     "output_type": "stream",
     "text": [
      "+-----+------------------+\n",
      "|month|  average_duration|\n",
      "+-----+------------------+\n",
      "|    1| 854.7855791943691|\n",
      "|    2| 941.5112405976662|\n",
      "|    3|  979.601150401697|\n",
      "|    4| 1043.872508106071|\n",
      "|    5| 1097.134243436576|\n",
      "|    6| 1090.719122002895|\n",
      "|    7|1016.4181846434772|\n",
      "|    8|1026.2733986048827|\n",
      "|    9|1129.2753415915024|\n",
      "|   10|1087.6125505592959|\n",
      "|   11|1092.2331565021873|\n",
      "|   12| 1103.255297850995|\n",
      "+-----+------------------+\n",
      "\n"
     ]
    },
    {
     "name": "stderr",
     "output_type": "stream",
     "text": [
      "                                                                                \r"
     ]
    }
   ],
   "source": [
    "data.select(\"tpep_pickup_datetime\", \"tpep_dropoff_datetime\") \\\n",
    "    .withColumn(\"duration\", F.unix_timestamp(\"tpep_dropoff_datetime\") - F.unix_timestamp(\"tpep_pickup_datetime\")) \\\n",
    "    .groupBy(F.month(\"tpep_pickup_datetime\").alias(\"month\")) \\\n",
    "    .agg(F.avg(\"duration\").alias(\"average_duration\")) \\\n",
    "    .orderBy(\"month\") \\\n",
    "    .show()"
   ]
  },
  {
   "cell_type": "markdown",
   "metadata": {},
   "source": [
    "Q9 – Est ce que les clients donnent plus de pourboires pendant les weekends comparé aux autres jours\n",
    "de la semaine ?"
   ]
  },
  {
   "cell_type": "code",
   "execution_count": 21,
   "metadata": {},
   "outputs": [
    {
     "name": "stderr",
     "output_type": "stream",
     "text": [
      "                                                                                \r"
     ]
    },
    {
     "name": "stdout",
     "output_type": "stream",
     "text": [
      "+-----------+------------------+\n",
      "|day_of_week|       average_tip|\n",
      "+-----------+------------------+\n",
      "|          1|2.7911125548073543|\n",
      "|          2|  2.76024488341585|\n",
      "|          3| 2.722819436278987|\n",
      "|          4| 2.744387019077562|\n",
      "|          5| 2.776245634966175|\n",
      "|          6|2.7338758259223925|\n",
      "|          7|2.5808504391486515|\n",
      "+-----------+------------------+\n",
      "\n"
     ]
    },
    {
     "name": "stderr",
     "output_type": "stream",
     "text": [
      "[Stage 81:==============================================>         (10 + 2) / 12]\r"
     ]
    },
    {
     "name": "stdout",
     "output_type": "stream",
     "text": [
      "Avrage weekday tip : 2.758961905709186\n",
      "Avrage weekend tip : 2.6573631325355223\n"
     ]
    },
    {
     "name": "stderr",
     "output_type": "stream",
     "text": [
      "                                                                                \r"
     ]
    }
   ],
   "source": [
    "tips = (\n",
    "    data.withColumn(\"day_of_week\", F.dayofweek(F.col(\"tpep_pickup_datetime\")))\n",
    "    .groupBy(\"day_of_week\")\n",
    "    .agg(F.avg(\"tip_amount\").alias(\"average_tip\"))\n",
    "    .orderBy(\"day_of_week\")\n",
    ")\n",
    "\n",
    "tips.show()\n",
    "tips = tips.toPandas()\n",
    "\n",
    "print(\"Avrage weekday tip :\",   tips[tips[\"day_of_week\"] <= 5 ][\"average_tip\"].mean())\n",
    "print(\"Avrage weekend tip :\",   tips[tips[\"day_of_week\"] > 5 ][\"average_tip\"].mean())\n"
   ]
  },
  {
   "cell_type": "markdown",
   "metadata": {},
   "source": [
    "# Exercice 4 : Quartiers les plus prisées de New York"
   ]
  },
  {
   "cell_type": "markdown",
   "metadata": {},
   "source": [
    "Importer les données"
   ]
  },
  {
   "cell_type": "code",
   "execution_count": 22,
   "metadata": {},
   "outputs": [
    {
     "data": {
      "text/plain": [
       "[Row(LocationID='1', Borough='EWR', Zone='Newark Airport', service_zone='EWR'),\n",
       " Row(LocationID='2', Borough='Queens', Zone='Jamaica Bay', service_zone='Boro Zone'),\n",
       " Row(LocationID='3', Borough='Bronx', Zone='Allerton/Pelham Gardens', service_zone='Boro Zone'),\n",
       " Row(LocationID='4', Borough='Manhattan', Zone='Alphabet City', service_zone='Yellow Zone'),\n",
       " Row(LocationID='5', Borough='Staten Island', Zone='Arden Heights', service_zone='Boro Zone')]"
      ]
     },
     "execution_count": 22,
     "metadata": {},
     "output_type": "execute_result"
    }
   ],
   "source": [
    "loc_data = spark.read.option(\"header\", \"true\").csv(\"file:///home/victor/Epita/ING2/BDA/TP5/datasets/taxi_zone_lookup.csv\")\n",
    "\n",
    "loc_data.head(5)"
   ]
  },
  {
   "cell_type": "markdown",
   "metadata": {},
   "source": [
    "Q1 – Faire la jointure entre les deux datasets pour récupérer l’arrondissement et la zone pour chaque\n",
    "trajet."
   ]
  },
  {
   "cell_type": "code",
   "execution_count": 23,
   "metadata": {},
   "outputs": [
    {
     "data": {
      "text/plain": [
       "[Row(VendorID=1, tpep_pickup_datetime=datetime.datetime(2022, 10, 1, 0, 3, 41), tpep_dropoff_datetime=datetime.datetime(2022, 10, 1, 0, 18, 39), passenger_count=1.0, trip_distance=1.7, RatecodeID=1.0, store_and_fwd_flag='N', PULocationID=249, DOLocationID=107, payment_type=1, fare_amount=9.5, extra=3.0, mta_tax=0.5, tip_amount=2.65, tolls_amount=0.0, improvement_surcharge=0.3, total_amount=15.95, congestion_surcharge=2.5, airport_fee=0.0, pickup_LocationID='249', pickup_Borough='Manhattan', pickup_Zone='West Village', pickup_service_zone='Yellow Zone', dropoff_LocationID='107', dropoff_Borough='Manhattan', dropoff_Zone='Gramercy', dropoff_service_zone='Yellow Zone'),\n",
       " Row(VendorID=2, tpep_pickup_datetime=datetime.datetime(2022, 10, 1, 0, 14, 30), tpep_dropoff_datetime=datetime.datetime(2022, 10, 1, 0, 19, 48), passenger_count=2.0, trip_distance=0.72, RatecodeID=1.0, store_and_fwd_flag='N', PULocationID=151, DOLocationID=238, payment_type=2, fare_amount=5.5, extra=0.5, mta_tax=0.5, tip_amount=0.0, tolls_amount=0.0, improvement_surcharge=0.3, total_amount=9.3, congestion_surcharge=2.5, airport_fee=0.0, pickup_LocationID='151', pickup_Borough='Manhattan', pickup_Zone='Manhattan Valley', pickup_service_zone='Yellow Zone', dropoff_LocationID='238', dropoff_Borough='Manhattan', dropoff_Zone='Upper West Side North', dropoff_service_zone='Yellow Zone'),\n",
       " Row(VendorID=2, tpep_pickup_datetime=datetime.datetime(2022, 10, 1, 0, 27, 13), tpep_dropoff_datetime=datetime.datetime(2022, 10, 1, 0, 37, 41), passenger_count=1.0, trip_distance=1.74, RatecodeID=1.0, store_and_fwd_flag='N', PULocationID=238, DOLocationID=166, payment_type=1, fare_amount=9.0, extra=0.5, mta_tax=0.5, tip_amount=2.06, tolls_amount=0.0, improvement_surcharge=0.3, total_amount=12.36, congestion_surcharge=0.0, airport_fee=0.0, pickup_LocationID='238', pickup_Borough='Manhattan', pickup_Zone='Upper West Side North', pickup_service_zone='Yellow Zone', dropoff_LocationID='166', dropoff_Borough='Manhattan', dropoff_Zone='Morningside Heights', dropoff_service_zone='Boro Zone'),\n",
       " Row(VendorID=1, tpep_pickup_datetime=datetime.datetime(2022, 10, 1, 0, 22, 52), tpep_dropoff_datetime=datetime.datetime(2022, 10, 1, 0, 52, 14), passenger_count=1.0, trip_distance=6.8, RatecodeID=1.0, store_and_fwd_flag='Y', PULocationID=186, DOLocationID=41, payment_type=2, fare_amount=25.5, extra=3.0, mta_tax=0.5, tip_amount=0.0, tolls_amount=0.0, improvement_surcharge=0.3, total_amount=29.3, congestion_surcharge=2.5, airport_fee=0.0, pickup_LocationID='186', pickup_Borough='Manhattan', pickup_Zone='Penn Station/Madison Sq West', pickup_service_zone='Yellow Zone', dropoff_LocationID='41', dropoff_Borough='Manhattan', dropoff_Zone='Central Harlem', dropoff_service_zone='Boro Zone'),\n",
       " Row(VendorID=2, tpep_pickup_datetime=datetime.datetime(2022, 10, 1, 0, 33, 19), tpep_dropoff_datetime=datetime.datetime(2022, 10, 1, 0, 44, 51), passenger_count=3.0, trip_distance=1.88, RatecodeID=1.0, store_and_fwd_flag='N', PULocationID=162, DOLocationID=145, payment_type=2, fare_amount=10.5, extra=0.5, mta_tax=0.5, tip_amount=0.0, tolls_amount=0.0, improvement_surcharge=0.3, total_amount=14.3, congestion_surcharge=2.5, airport_fee=0.0, pickup_LocationID='162', pickup_Borough='Manhattan', pickup_Zone='Midtown East', pickup_service_zone='Yellow Zone', dropoff_LocationID='145', dropoff_Borough='Queens', dropoff_Zone='Long Island City/Hunters Point', dropoff_service_zone='Boro Zone')]"
      ]
     },
     "execution_count": 23,
     "metadata": {},
     "output_type": "execute_result"
    }
   ],
   "source": [
    "dropoff_loc_alias = loc_data.alias(\"dropoff\")\n",
    "\n",
    "data_with_pickup = data.join(loc_data, data.PULocationID == loc_data.LocationID, \"left_outer\")\n",
    "data_with_pickup = data_with_pickup.withColumnRenamed(\"LocationID\", \"pickup_LocationID\") \\\n",
    "    .withColumnRenamed(\"Borough\" , \"pickup_Borough\") \\\n",
    "    .withColumnRenamed(\"Zone\" , \"pickup_Zone\") \\\n",
    "    .withColumnRenamed(\"service_zone\" , \"pickup_service_zone\")\n",
    "\n",
    "data_complete = data_with_pickup.join(dropoff_loc_alias, data.DOLocationID == F.col(\"dropoff.LocationID\"), \"left_outer\")\n",
    "data_complete = data_complete.withColumnRenamed(\"LocationID\", \"dropoff_LocationID\") \\\n",
    "    .withColumnRenamed(\"Borough\" , \"dropoff_Borough\") \\\n",
    "    .withColumnRenamed(\"Zone\" , \"dropoff_Zone\") \\\n",
    "    .withColumnRenamed(\"service_zone\" , \"dropoff_service_zone\")\n",
    "\n",
    "data_complete.head(5)"
   ]
  },
  {
   "cell_type": "markdown",
   "metadata": {},
   "source": [
    "Q2 – Quelles sont les tops destinations (top 4 des zones) ? et d’ou les trajets correspondants\n",
    "commencent t’ils ?"
   ]
  },
  {
   "cell_type": "code",
   "execution_count": 24,
   "metadata": {},
   "outputs": [
    {
     "name": "stdout",
     "output_type": "stream",
     "text": [
      "Top 4 destinations :\n"
     ]
    },
    {
     "name": "stderr",
     "output_type": "stream",
     "text": [
      "                                                                                \r"
     ]
    },
    {
     "name": "stdout",
     "output_type": "stream",
     "text": [
      "+--------------------+-------+\n",
      "|        Dropoff_Zone|  count|\n",
      "+--------------------+-------+\n",
      "|Upper East Side N...|1601756|\n",
      "|Upper East Side S...|1526927|\n",
      "|      Midtown Center|1359992|\n",
      "|         Murray Hill|1099527|\n",
      "+--------------------+-------+\n",
      "\n",
      "Debut des trajets coresspondants :\n"
     ]
    },
    {
     "name": "stderr",
     "output_type": "stream",
     "text": [
      "                                                                                \r"
     ]
    },
    {
     "name": "stdout",
     "output_type": "stream",
     "text": [
      "Upper East Side North\n"
     ]
    },
    {
     "name": "stderr",
     "output_type": "stream",
     "text": [
      "                                                                                \r"
     ]
    },
    {
     "name": "stdout",
     "output_type": "stream",
     "text": [
      "+--------------------+------+\n",
      "|         Pickup_Zone| count|\n",
      "+--------------------+------+\n",
      "|Upper East Side S...|247615|\n",
      "|Upper East Side N...|153072|\n",
      "|      Midtown Center| 88145|\n",
      "|     Lenox Hill West| 86952|\n",
      "|Upper West Side S...| 67456|\n",
      "+--------------------+------+\n",
      "\n",
      "Upper East Side South\n"
     ]
    },
    {
     "name": "stderr",
     "output_type": "stream",
     "text": [
      "                                                                                \r"
     ]
    },
    {
     "name": "stdout",
     "output_type": "stream",
     "text": [
      "+--------------------+------+\n",
      "|         Pickup_Zone| count|\n",
      "+--------------------+------+\n",
      "|Upper East Side N...|209015|\n",
      "|Upper East Side S...|161234|\n",
      "|      Midtown Center| 98965|\n",
      "|        Midtown East| 71032|\n",
      "| Lincoln Square East| 68874|\n",
      "+--------------------+------+\n",
      "\n",
      "Midtown Center\n"
     ]
    },
    {
     "name": "stderr",
     "output_type": "stream",
     "text": [
      "                                                                                \r"
     ]
    },
    {
     "name": "stdout",
     "output_type": "stream",
     "text": [
      "+--------------------+------+\n",
      "|         Pickup_Zone| count|\n",
      "+--------------------+------+\n",
      "|Upper East Side S...|108661|\n",
      "|Upper East Side N...| 83100|\n",
      "|Penn Station/Madi...| 75986|\n",
      "| Lincoln Square East| 52822|\n",
      "|      Midtown Center| 51736|\n",
      "+--------------------+------+\n",
      "\n",
      "Murray Hill\n"
     ]
    },
    {
     "name": "stderr",
     "output_type": "stream",
     "text": [
      "[Stage 120:==========================================>             (9 + 3) / 12]\r"
     ]
    },
    {
     "name": "stdout",
     "output_type": "stream",
     "text": [
      "+--------------------+-----+\n",
      "|         Pickup_Zone|count|\n",
      "+--------------------+-----+\n",
      "|            Gramercy|66643|\n",
      "|            Union Sq|57526|\n",
      "|Penn Station/Madi...|56980|\n",
      "|        Midtown East|50778|\n",
      "|      Midtown Center|49248|\n",
      "+--------------------+-----+\n",
      "\n"
     ]
    },
    {
     "name": "stderr",
     "output_type": "stream",
     "text": [
      "                                                                                \r"
     ]
    }
   ],
   "source": [
    "top_4 = data_complete.groupBy(\"Dropoff_Zone\").count().orderBy(F.desc(\"count\")).limit(4)\n",
    "\n",
    "print(\"Top 4 destinations :\")\n",
    "top_4.show()\n",
    "\n",
    "print(\"Debut des trajets coresspondants :\")\n",
    "for row in top_4.collect():\n",
    "    destination = row['Dropoff_Zone']\n",
    "    print(destination)\n",
    "    data_complete.filter(data_complete[\"Dropoff_Zone\"] == destination) \\\n",
    "                .groupBy(\"Pickup_Zone\") \\\n",
    "                .count() \\\n",
    "                .orderBy(F.desc(\"count\")) \\\n",
    "                .limit(5) \\\n",
    "                .show()"
   ]
  },
  {
   "cell_type": "markdown",
   "metadata": {},
   "source": [
    "# Exercice 5 : Impact de la météo sur les trajets"
   ]
  },
  {
   "cell_type": "markdown",
   "metadata": {},
   "source": [
    "Importer les donnees"
   ]
  },
  {
   "cell_type": "code",
   "execution_count": 25,
   "metadata": {},
   "outputs": [
    {
     "name": "stderr",
     "output_type": "stream",
     "text": [
      "                                                                                \r"
     ]
    },
    {
     "name": "stdout",
     "output_type": "stream",
     "text": [
      "+-------------------+----+\n",
      "|          date_time|temp|\n",
      "+-------------------+----+\n",
      "|2022-01-01 00:15:00|10.6|\n",
      "|2022-01-01 00:51:00|10.6|\n",
      "|2022-01-01 01:49:00|11.0|\n",
      "|2022-01-01 01:51:00|10.6|\n",
      "|2022-01-01 02:51:00|11.1|\n",
      "|2022-01-01 03:51:00|10.6|\n",
      "|2022-01-01 04:49:00|11.0|\n",
      "|2022-01-01 04:51:00|10.6|\n",
      "|2022-01-01 05:51:00|10.6|\n",
      "|2022-01-01 06:51:00|10.6|\n",
      "+-------------------+----+\n",
      "only showing top 10 rows\n",
      "\n"
     ]
    }
   ],
   "source": [
    "from datetime import datetime\n",
    "\n",
    "weather_rdd = spark.sparkContext.textFile('file:///home/victor/Epita/ING2/BDA/TP5/datasets/725053-94728-2022')\n",
    "\n",
    "def parse_line(line):\n",
    "    date = line[15:23]\n",
    "    time = line[23:27]\n",
    "    date_time = datetime.strptime(date + time, \"%Y%m%d%H%M\")\n",
    "    temp = int(line[88:92]) / 10 * (1 if line[87] == '+' else -1)\n",
    "    if -100 <= temp <= 150:\n",
    "        return (date_time, temp)\n",
    "    return None\n",
    "\n",
    "wdata = weather_rdd.map(parse_line).filter(lambda x: x is not None)\n",
    "wdata_df = wdata.toDF([\"date_time\", \"temp\"])\n",
    "wdata_df.show(10)"
   ]
  },
  {
   "cell_type": "markdown",
   "metadata": {},
   "source": [
    "Q1 – Comment le nombre de trajets varie en fonction de la température qu’il fait ?"
   ]
  },
  {
   "cell_type": "code",
   "execution_count": 26,
   "metadata": {},
   "outputs": [
    {
     "name": "stderr",
     "output_type": "stream",
     "text": [
      "[Stage 125:==================================================>    (11 + 1) / 12]\r"
     ]
    },
    {
     "name": "stdout",
     "output_type": "stream",
     "text": [
      "+----------+--------+--------------------+---------------------+---------------+-------------+----------+------------------+------------+------------+------------+-----------+-----+-------+----------+------------+---------------------+------------+--------------------+-----------+-------------------+----+\n",
      "|      date|VendorID|tpep_pickup_datetime|tpep_dropoff_datetime|passenger_count|trip_distance|RatecodeID|store_and_fwd_flag|PULocationID|DOLocationID|payment_type|fare_amount|extra|mta_tax|tip_amount|tolls_amount|improvement_surcharge|total_amount|congestion_surcharge|airport_fee|          date_time|temp|\n",
      "+----------+--------+--------------------+---------------------+---------------+-------------+----------+------------------+------------+------------+------------+-----------+-----+-------+----------+------------+---------------------+------------+--------------------+-----------+-------------------+----+\n",
      "|2022-10-19|       2| 2022-10-19 00:00:57|  2022-10-19 00:46:30|            1.0|        19.79|       1.0|                 N|         138|          71|           1|       56.5|  0.5|    0.5|     11.81|         0.0|                  0.3|       70.86|                 0.0|       1.25|2022-10-19 23:51:00|10.0|\n",
      "|2022-10-19|       2| 2022-10-19 00:00:57|  2022-10-19 00:46:30|            1.0|        19.79|       1.0|                 N|         138|          71|           1|       56.5|  0.5|    0.5|     11.81|         0.0|                  0.3|       70.86|                 0.0|       1.25|2022-10-19 22:51:00|10.6|\n",
      "|2022-10-19|       2| 2022-10-19 00:00:57|  2022-10-19 00:46:30|            1.0|        19.79|       1.0|                 N|         138|          71|           1|       56.5|  0.5|    0.5|     11.81|         0.0|                  0.3|       70.86|                 0.0|       1.25|2022-10-19 21:51:00|10.6|\n",
      "|2022-10-19|       2| 2022-10-19 00:00:57|  2022-10-19 00:46:30|            1.0|        19.79|       1.0|                 N|         138|          71|           1|       56.5|  0.5|    0.5|     11.81|         0.0|                  0.3|       70.86|                 0.0|       1.25|2022-10-19 20:51:00|11.1|\n",
      "|2022-10-19|       2| 2022-10-19 00:00:57|  2022-10-19 00:46:30|            1.0|        19.79|       1.0|                 N|         138|          71|           1|       56.5|  0.5|    0.5|     11.81|         0.0|                  0.3|       70.86|                 0.0|       1.25|2022-10-19 19:51:00|11.7|\n",
      "+----------+--------+--------------------+---------------------+---------------+-------------+----------+------------------+------------+------------+------------+-----------+-----+-------+----------+------------+---------------------+------------+--------------------+-----------+-------------------+----+\n",
      "only showing top 5 rows\n",
      "\n"
     ]
    },
    {
     "name": "stderr",
     "output_type": "stream",
     "text": [
      "                                                                                \r"
     ]
    }
   ],
   "source": [
    "from pyspark.sql.functions import to_date\n",
    "\n",
    "data_with_date = data.withColumn(\"date\", to_date(\"tpep_pickup_datetime\"))\n",
    "wdata_df_with_date = wdata_df.withColumn(\"date\", to_date(\"date_time\"))\n",
    "\n",
    "data_weather = data_with_date.join(wdata_df_with_date, \"date\")\n",
    "data_weather.show(5)"
   ]
  },
  {
   "cell_type": "code",
   "execution_count": 27,
   "metadata": {},
   "outputs": [
    {
     "name": "stderr",
     "output_type": "stream",
     "text": [
      "                                                                                \r"
     ]
    },
    {
     "data": {
      "image/png": "[encoded data removed]",
      "text/plain": [
       "<Figure size 640x480 with 1 Axes>"
      ]
     },
     "metadata": {},
     "output_type": "display_data"
    }
   ],
   "source": [
    "daily_stats = data_weather.groupBy(F.date_trunc('day', 'date_time').alias('day')) \\\n",
    "    .agg(\n",
    "        F.mean('temp').alias('avg_temp'),\n",
    "        F.count('*').alias('num_trips')\n",
    "    ) \\\n",
    "    .orderBy('day') \\\n",
    "    .toPandas() \\\n",
    "    .plot(kind=\"scatter\", x=\"avg_temp\", y=\"num_trips\", color='blue')"
   ]
  },
  {
   "cell_type": "markdown",
   "metadata": {},
   "source": [
    "# Exercice 6 : Machine Learning (Mllib)"
   ]
  },
  {
   "cell_type": "markdown",
   "metadata": {},
   "source": [
    "Q1 – Implémenter un modèle de régression de votre choix avec tout le pipeline, préparation des données, splits, train, loss, évaluation des prédictions."
   ]
  },
  {
   "cell_type": "markdown",
   "metadata": {},
   "source": [
    "Estimer le prix d'un trajet en fonction de la distance et de la duree du trajet"
   ]
  },
  {
   "cell_type": "code",
   "execution_count": 28,
   "metadata": {},
   "outputs": [],
   "source": [
    "data = data.withColumn(\"trip_duration\", F.unix_timestamp(\"tpep_dropoff_datetime\") - F.unix_timestamp(\"tpep_pickup_datetime\"))\n",
    "selected_data = data.select(F.col(\"trip_distance\"), F.col(\"trip_duration\"), F.col(\"total_amount\"))"
   ]
  },
  {
   "cell_type": "markdown",
   "metadata": {},
   "source": [
    "Combiner les caracteristiques en vacteur"
   ]
  },
  {
   "cell_type": "code",
   "execution_count": 29,
   "metadata": {},
   "outputs": [
    {
     "name": "stderr",
     "output_type": "stream",
     "text": [
      "                                                                                \r"
     ]
    }
   ],
   "source": [
    "from pyspark.ml.feature import VectorAssembler\n",
    "from pyspark.ml.regression import RandomForestRegressor\n",
    "from pyspark.ml.regression import GBTRegressor\n",
    "from pyspark.ml import Pipeline\n",
    "\n",
    "featureAssembler = VectorAssembler(inputCols=[\"trip_distance\", \"trip_duration\"], outputCol=\"features\")\n",
    "\n",
    "gbt = GBTRegressor(featuresCol=\"features\", labelCol=\"total_amount\")\n",
    "# rf = RandomForestRegressor(featuresCol=\"features\", labelCol=\"total_amount\")\n",
    "\n",
    "pipeline = Pipeline(stages=[featureAssembler, gbt])\n",
    "\n",
    "# Divide data\n",
    "train_data, test_data = selected_data.randomSplit([0.7, 0.3], seed=42)\n",
    "\n",
    "# Train model\n",
    "model = pipeline.fit(train_data)\n"
   ]
  },
  {
   "cell_type": "code",
   "execution_count": 31,
   "metadata": {},
   "outputs": [
    {
     "name": "stderr",
     "output_type": "stream",
     "text": [
      "[Stage 353:==================================================>    (11 + 1) / 12]\r"
     ]
    },
    {
     "name": "stdout",
     "output_type": "stream",
     "text": [
      "RMSE sur l'ensemble de test = 6.73\n"
     ]
    },
    {
     "name": "stderr",
     "output_type": "stream",
     "text": [
      "                                                                                \r"
     ]
    }
   ],
   "source": [
    "from pyspark.ml.evaluation import RegressionEvaluator\n",
    "\n",
    "predictions = model.transform(test_data)\n",
    "\n",
    "evaluator = RegressionEvaluator(labelCol=\"total_amount\", predictionCol=\"prediction\", metricName=\"rmse\")\n",
    "rmse = evaluator.evaluate(predictions)\n",
    "print(f\"RMSE sur l'ensemble de test = {round(rmse, 2)}\")"
   ]
  },
  {
   "cell_type": "markdown",
   "metadata": {},
   "source": [
    "# Exercice 7 : Movies"
   ]
  },
  {
   "cell_type": "markdown",
   "metadata": {},
   "source": [
    "Q1 – Construire les deux dataframes correspondants aux jeux de données."
   ]
  },
  {
   "cell_type": "code",
   "execution_count": null,
   "metadata": {},
   "outputs": [],
   "source": []
  },
  {
   "cell_type": "markdown",
   "metadata": {},
   "source": [
    "Q2 – Combien de films y a t’il dans le jeu de données ?"
   ]
  },
  {
   "cell_type": "code",
   "execution_count": null,
   "metadata": {},
   "outputs": [],
   "source": []
  },
  {
   "cell_type": "markdown",
   "metadata": {},
   "source": [
    "Q3 – Construire une nouvelle colonnes qui va contenir l’année de sortie de chaque film. Cette donnée\n",
    "se trouve en parenthèse à la fin de chaque titre de film"
   ]
  },
  {
   "cell_type": "code",
   "execution_count": null,
   "metadata": {},
   "outputs": [],
   "source": []
  },
  {
   "cell_type": "markdown",
   "metadata": {},
   "source": [
    "Q4 – Donner la liste de tous les genres de films disponible."
   ]
  },
  {
   "cell_type": "code",
   "execution_count": null,
   "metadata": {},
   "outputs": [],
   "source": []
  },
  {
   "cell_type": "markdown",
   "metadata": {},
   "source": [
    "Q5 – Construire une liste de films par genres, i.e., répertorier tous les films pour les genres \"Drama\",\n",
    "\"Romance\", etc."
   ]
  },
  {
   "cell_type": "code",
   "execution_count": null,
   "metadata": {},
   "outputs": [],
   "source": []
  },
  {
   "cell_type": "markdown",
   "metadata": {},
   "source": [
    "Q6 – Trouver le nombre de films pour chaque appréciation (rating 1, 2, 3, 4 et 5)"
   ]
  },
  {
   "cell_type": "code",
   "execution_count": null,
   "metadata": {},
   "outputs": [],
   "source": []
  },
  {
   "cell_type": "markdown",
   "metadata": {},
   "source": [
    "Q7 – Quels sont les 10 films qui ont été regardé le plus de fois (par le plus d’utilisateurs) ?"
   ]
  },
  {
   "cell_type": "code",
   "execution_count": null,
   "metadata": {},
   "outputs": [],
   "source": []
  }
 ],
 "metadata": {
  "kernelspec": {
   "display_name": "Python 3",
   "language": "python",
   "name": "python3"
  },
  "language_info": {
   "codemirror_mode": {
    "name": "ipython",
    "version": 3
   },
   "file_extension": ".py",
   "mimetype": "text/x-python",
   "name": "python",
   "nbconvert_exporter": "python",
   "pygments_lexer": "ipython3",
   "version": "3.10.12"
  }
 },
 "nbformat": 4,
 "nbformat_minor": 2
}
